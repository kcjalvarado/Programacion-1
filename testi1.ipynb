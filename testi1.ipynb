{
 "cells": [
  {
   "cell_type": "markdown",
   "id": "88c2fecb-4a7a-404e-82a0-abe428fc8389",
   "metadata": {},
   "source": [
    "# Inicio\n",
    "## test 1"
   ]
  },
  {
   "cell_type": "code",
   "execution_count": 6,
   "id": "b7d7895f-aa6e-4b4c-9f65-2bd90950e0de",
   "metadata": {},
   "outputs": [
    {
     "name": "stdout",
     "output_type": "stream",
     "text": [
      "hello world testi 1\n"
     ]
    }
   ],
   "source": [
    "s = \"testi 1\"\n",
    "print(\"hello world\",s)"
   ]
  },
  {
   "cell_type": "code",
   "execution_count": null,
   "id": "860c1696-91c7-4959-a3ef-f2911a7619fc",
   "metadata": {},
   "outputs": [],
   "source": []
  }
 ],
 "metadata": {
  "kernelspec": {
   "display_name": "Python [conda env:root] *",
   "language": "python",
   "name": "conda-root-py"
  },
  "language_info": {
   "codemirror_mode": {
    "name": "ipython",
    "version": 3
   },
   "file_extension": ".py",
   "mimetype": "text/x-python",
   "name": "python",
   "nbconvert_exporter": "python",
   "pygments_lexer": "ipython3",
   "version": "3.9.7"
  }
 },
 "nbformat": 4,
 "nbformat_minor": 5
}
